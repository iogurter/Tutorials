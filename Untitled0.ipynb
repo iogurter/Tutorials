{
  "nbformat": 4,
  "nbformat_minor": 0,
  "metadata": {
    "colab": {
      "provenance": [],
      "authorship_tag": "ABX9TyMKnIKXOxZjKK26YBk5HzL3",
      "include_colab_link": true
    },
    "kernelspec": {
      "name": "python3",
      "display_name": "Python 3"
    },
    "language_info": {
      "name": "python"
    }
  },
  "cells": [
    {
      "cell_type": "markdown",
      "metadata": {
        "id": "view-in-github",
        "colab_type": "text"
      },
      "source": [
        "<a href=\"https://colab.research.google.com/github/iogurter/Tutorials/blob/master/Untitled0.ipynb\" target=\"_parent\"><img src=\"https://colab.research.google.com/assets/colab-badge.svg\" alt=\"Open In Colab\"/></a>"
      ]
    },
    {
      "cell_type": "code",
      "execution_count": 10,
      "metadata": {
        "id": "qnr2sVH-1_QY"
      },
      "outputs": [],
      "source": [
        "import requests\n",
        "import pandas as pd\n",
        "\n",
        "from io import StringIO"
      ]
    },
    {
      "cell_type": "code",
      "source": [
        "responce = requests.get(\"https://www.cbr.ru/scripts/XML_daily.asp?date_req=02/01/2024\")"
      ],
      "metadata": {
        "id": "GtE1pyFg42wF"
      },
      "execution_count": 11,
      "outputs": []
    },
    {
      "cell_type": "code",
      "source": [
        "df = pd.read_xml(StringIO(responce.text))\n",
        "df"
      ],
      "metadata": {
        "id": "RqJQw6UB6wFd"
      },
      "execution_count": null,
      "outputs": []
    }
  ]
}